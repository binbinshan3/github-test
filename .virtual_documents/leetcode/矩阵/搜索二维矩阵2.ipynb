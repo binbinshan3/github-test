





from typing import List
class Solution:
    def searchMatrix(self, matrix: List[List[int]], target: int) -> bool:
        m=len(matrix)
        n=len(matrix[0])
        top_row=0
        top_col=0
        bottom_row=m-1
        bottom_col=n-1
        if target<matrix[top_row][top_col] or target>matrix[bottom_row][bottom_col]:
            return False
        while top_row!=bottom_row or top_col!=bottom_col:
            if target==matrix[top_row][top_col] or target==matrix[bottom_row][bottom_col] or target==matrix[bottom_row][top_col] or target==matrix[top_row][bottom_col] :
                return True
            if  top_row!=bottom_row and target<matrix[bottom_row][top_col]:
                bottom_row-=1
                continue
            if top_col!=bottom_col and target<matrix[top_row][bottom_col]:
                bottom_col-=1
                continue
            if top_row!=bottom_row and target>matrix[top_row][bottom_col]:
                top_row+=1
                continue
            if top_col!=bottom_col and target>matrix[bottom_row][top_col]:
                top_col+=1
                continue
        if target==matrix[top_row][top_col] or target==matrix[bottom_row][bottom_col]:
                return True
        else:
            return False
            


a=Solution()
a.searchMatrix([[1,3,5]],4)





from typing import List
class Solution:
    def searchMatrix(self, matrix: List[List[int]], target: int) -> bool:
        m=len(matrix)
        n-len(matrix[0])
        row=0
        col=n-1
        # 这个地方的边界条件还挺巧妙的，这个col>=0一定不会越界，真是神奇
        while row<m-1 and col>=0:
            if target==matrix[row][col]:
                return True
            if target>matrix[row][col]:
                row+=1
            else:
                col-=1
        
