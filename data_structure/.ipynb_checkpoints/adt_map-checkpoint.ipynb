{
 "cells": [
  {
   "cell_type": "code",
   "execution_count": 3,
   "id": "b473c440-90d8-4c45-92d5-ce0f33d76c3c",
   "metadata": {},
   "outputs": [],
   "source": [
    "class HashTable:\n",
    "    def __init__(self):\n",
    "        self.size=11\n",
    "        self.slots=[None]*self.size\n",
    "        self.data=[None]*self.size \n",
    "    def hashfunction(self,key):\n",
    "        return key%self.size\n",
    "    def rehash(self,oldhash):\n",
    "        return (oldhash+1)%self.size\n",
    "    def put(self,key,data):\n",
    "        hashvalue=self.hashfunction(self,key)\n",
    "        if not self.slots[hashvalue]:\n",
    "            self.slots[hashvalue]=key\n",
    "            self.data[hashvalue]=data\n",
    "        else:\n",
    "            if self.slots[hashvalue]==key:\n",
    "                self.data[hashvalue]=data\n",
    "            else:\n",
    "                nextslot=self.rehash(hashvalue)\n",
    "                while self.slots[nextslot] and self.slots[nextslot]!=nextslot:\n",
    "                    nextslot=self.rehash(nextslot)\n",
    "            if not self.slots[nextslot]:\n",
    "                self.slots[nextslot]=key\n",
    "                self.data[nextslot]=data\n",
    "            else:\n",
    "                self.data[nextslot]=data\n",
    "    def get(self,key):\n",
    "        startslot=self.hashfunction(key)\n",
    "        data=None\n",
    "        stop=False\n",
    "        found=False\n",
    "        position=startslot\n",
    "        while self.slots[position]!=None and not found and not stop:\n",
    "            if self.slots[position]==key:\n",
    "                found=True\n",
    "                data=self.data[position]\n",
    "            else:\n",
    "                position=rehash(position)\n",
    "                if position==startslot:\n",
    "                    stop=True\n",
    "        return data\n",
    "    def __getitem__(self,key):\n",
    "        return self.get(key)\n",
    "    def __setitem__(self,key,data):\n",
    "        self.put(key,data)\n",
    "                \n",
    "                    "
   ]
  },
  {
   "cell_type": "code",
   "execution_count": null,
   "id": "d4061aeb-d339-4fa1-8d88-47507ca99b52",
   "metadata": {},
   "outputs": [],
   "source": []
  }
 ],
 "metadata": {
  "kernelspec": {
   "display_name": "Python 3 (ipykernel)",
   "language": "python",
   "name": "python3"
  },
  "language_info": {
   "codemirror_mode": {
    "name": "ipython",
    "version": 3
   },
   "file_extension": ".py",
   "mimetype": "text/x-python",
   "name": "python",
   "nbconvert_exporter": "python",
   "pygments_lexer": "ipython3",
   "version": "3.11.0"
  }
 },
 "nbformat": 4,
 "nbformat_minor": 5
}
