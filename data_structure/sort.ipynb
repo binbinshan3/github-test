{
 "cells": [
  {
   "cell_type": "code",
   "execution_count": 3,
   "id": "713733b2-d3e1-41f4-b568-898cde3b9391",
   "metadata": {},
   "outputs": [
    {
     "name": "stdout",
     "output_type": "stream",
     "text": [
      "False\n"
     ]
    }
   ],
   "source": [
    "# 二分查找\n",
    "def binarySearch(alist,item):\n",
    "    first=0\n",
    "    last=len(alist)-1\n",
    "    found=False\n",
    "    while first<=last and not found:\n",
    "        mid=(first+last)//2\n",
    "        if alist[mid]==item:\n",
    "            found=True\n",
    "            return found\n",
    "        else:\n",
    "            if alist[mid]>item:\n",
    "                last=mid-1\n",
    "            else:\n",
    "                first=mid+1\n",
    "    return found\n",
    "\n",
    "a=[0,1,2,3,4,5,6,7,8,9]\n",
    "print(binarySearch(a,15))"
   ]
  },
  {
   "cell_type": "code",
   "execution_count": 7,
   "id": "c9e99ef7-06ae-4dc5-a86a-9b94f62f1322",
   "metadata": {},
   "outputs": [
    {
     "name": "stdout",
     "output_type": "stream",
     "text": [
      "False\n"
     ]
    }
   ],
   "source": [
    "# 二分查找递归版\n",
    "def binarySearch(alist,item):\n",
    "    if len(alist)==0:\n",
    "        return False\n",
    "    mid=(len(alist)-1)//2\n",
    "    if alist[mid]<item:\n",
    "        return binarySearch(alist[mid+1::],item)\n",
    "    elif alist[mid]>item:\n",
    "        return binarySearch(alist[:mid],item)\n",
    "    else:\n",
    "        return True\n",
    "a=[0,1,2,3,4,5,6,7,8,9]\n",
    "print(binarySearch(a,15))"
   ]
  },
  {
   "cell_type": "code",
   "execution_count": 4,
   "id": "4af05975-81b1-4690-92ed-e812dddfa607",
   "metadata": {},
   "outputs": [
    {
     "name": "stdout",
     "output_type": "stream",
     "text": [
      "[0, 1, 2, 3, 4, 5, 6, 7, 8, 9]\n"
     ]
    }
   ],
   "source": [
    "# 冒泡排序 真是经典啊\n",
    "def bubbleSort(alist):\n",
    "    # 哎呦 这里还有个小巧思，每次循环需要重复的列表原来越少了\n",
    "    for num in range(len(alist)-1,0,-1):\n",
    "        for i in range(num):\n",
    "            if alist[i]>alist[i+1]:\n",
    "                temp=alist[i]\n",
    "                alist[i]=alist[i+1]\n",
    "                alist[i+1]=temp\n",
    "alist=[9,8,7,6,5,4,3,2,1,0]\n",
    "bubbleSort(alist)\n",
    "print(alist)"
   ]
  },
  {
   "cell_type": "code",
   "execution_count": 5,
   "id": "e20f86eb-7950-42d5-883c-f4047df0754e",
   "metadata": {},
   "outputs": [
    {
     "name": "stdout",
     "output_type": "stream",
     "text": [
      "[0, 1, 2, 3, 4, 5, 6, 7, 8, 9]\n"
     ]
    }
   ],
   "source": [
    "# 选择排序 有点忘记是啥了  每次选择最大的那个放在最后面\n",
    "def selectSort(alist):\n",
    "    for num in range(len(alist)-1,0,-1):\n",
    "        pos=num\n",
    "        cur=0\n",
    "        for i in range(1,num+1):\n",
    "            if alist[i]>alist[cur]:\n",
    "                cur=i\n",
    "        tmp=alist[num]\n",
    "        alist[num]=alist[cur]\n",
    "        alist[cur]=tmp\n",
    "alist=[9,8,7,6,5,4,3,2,1,0]\n",
    "selectSort(alist)\n",
    "print(alist)\n",
    "\n",
    "\n",
    "    \n"
   ]
  },
  {
   "cell_type": "code",
   "execution_count": 6,
   "id": "5857ce3a-b665-4f0f-9573-9833929661d5",
   "metadata": {},
   "outputs": [
    {
     "name": "stdout",
     "output_type": "stream",
     "text": [
      "[0, 1, 2, 3, 4, 5, 6, 7, 8, 9]\n"
     ]
    }
   ],
   "source": [
    "# 插入排序\n",
    "def insertionSort(alist):\n",
    "    for index in range(1,len(alist)):\n",
    "        cur=alist[index]\n",
    "        position=index\n",
    "        while position>0 and alist[position-1]>cur:\n",
    "            alist[position]=alist[position-1]\n",
    "            position-=1\n",
    "        alist[position]=cur\n",
    "alist=[9,8,7,6,5,4,3,2,1,0]\n",
    "insertionSort(alist)\n",
    "print(alist)\n",
    "    "
   ]
  },
  {
   "cell_type": "code",
   "execution_count": 18,
   "id": "c07dcb47-f4fb-408e-947d-361c32a674b2",
   "metadata": {},
   "outputs": [
    {
     "name": "stdout",
     "output_type": "stream",
     "text": [
      "[4, 3, 2, 1, 0, 9, 8, 7, 6, 5]\n",
      "[0, 1, 2, 3, 4, 5, 6, 7, 8, 9]\n",
      "[0, 1, 2, 3, 4, 5, 6, 7, 8, 9]\n",
      "[0, 1, 2, 3, 4, 5, 6, 7, 8, 9]\n"
     ]
    }
   ],
   "source": [
    "# 谢尔排序  这个排序好奇怪  就是修改版之后的插入排序我感觉\n",
    "def shellSort(alist):\n",
    "    sublist=len(alist)//2\n",
    "    while sublist>0:\n",
    "        for i in range(sublist):\n",
    "            gapInserionSort(alist,i,sublist)\n",
    "        sublist=sublist//2\n",
    "        print(alist)\n",
    "def gapInserionSort(alist,i,sublist):\n",
    "    for index in range(i+sublist,len(alist),sublist):\n",
    "        cur=alist[index]\n",
    "        position=index\n",
    "        while position>=sublist and alist[position-sublist]>cur:\n",
    "            alist[position]=alist[position-sublist]\n",
    "            position=position-sublist\n",
    "        alist[position]=cur\n",
    "    \n",
    "alist=[9,8,7,6,5,4,3,2,1,0]\n",
    "shellSort(alist)\n",
    "print(alist)        "
   ]
  },
  {
   "cell_type": "code",
   "execution_count": 6,
   "id": "3fbc7020-3858-4144-8125-cd7f26bd1800",
   "metadata": {},
   "outputs": [
    {
     "name": "stdout",
     "output_type": "stream",
     "text": [
      "[0, 1, 2, 3, 4, 5, 6, 7, 8, 9]\n"
     ]
    }
   ],
   "source": [
    "def mergeSort(alist):\n",
    "    if len(alist)<=1:\n",
    "        return alist\n",
    "    mid=len(alist)//2\n",
    "    left=mergeSort(alist[:mid])\n",
    "    right=mergeSort(alist[mid:])\n",
    "    res=[]\n",
    "    while left and right:\n",
    "        if left[0]<right[0]:\n",
    "            res.append(left.pop(0))\n",
    "        else:\n",
    "            res.append(right.pop(0))\n",
    "    res.extend(left if left else right)\n",
    "    return res\n",
    "\n",
    "\n",
    "alist=[9,8,7,6,5,4,3,2,1,0]\n",
    "mergeSort(alist)\n",
    "print(mergeSort(alist))  "
   ]
  },
  {
   "cell_type": "code",
   "execution_count": 8,
   "id": "937af313-abf8-4ba3-ab96-cd9da9b5f772",
   "metadata": {},
   "outputs": [
    {
     "ename": "KeyboardInterrupt",
     "evalue": "",
     "output_type": "error",
     "traceback": [
      "\u001b[1;31m---------------------------------------------------------------------------\u001b[0m",
      "\u001b[1;31mKeyboardInterrupt\u001b[0m                         Traceback (most recent call last)",
      "Cell \u001b[1;32mIn[8], line 29\u001b[0m\n\u001b[0;32m     26\u001b[0m     \u001b[38;5;28;01mreturn\u001b[39;00m rightmark\n\u001b[0;32m     28\u001b[0m alist\u001b[38;5;241m=\u001b[39m[\u001b[38;5;241m9\u001b[39m,\u001b[38;5;241m8\u001b[39m,\u001b[38;5;241m7\u001b[39m,\u001b[38;5;241m6\u001b[39m,\u001b[38;5;241m5\u001b[39m,\u001b[38;5;241m4\u001b[39m,\u001b[38;5;241m3\u001b[39m,\u001b[38;5;241m2\u001b[39m,\u001b[38;5;241m1\u001b[39m,\u001b[38;5;241m0\u001b[39m]\n\u001b[1;32m---> 29\u001b[0m \u001b[43mquickSort\u001b[49m\u001b[43m(\u001b[49m\u001b[43malist\u001b[49m\u001b[43m)\u001b[49m\n\u001b[0;32m     30\u001b[0m \u001b[38;5;28mprint\u001b[39m(alist)      \n",
      "Cell \u001b[1;32mIn[8], line 2\u001b[0m, in \u001b[0;36mquickSort\u001b[1;34m(alist)\u001b[0m\n\u001b[0;32m      1\u001b[0m \u001b[38;5;28;01mdef\u001b[39;00m \u001b[38;5;21mquickSort\u001b[39m(alist):\n\u001b[1;32m----> 2\u001b[0m     \u001b[38;5;28;01mreturn\u001b[39;00m \u001b[43mquickSortHelper\u001b[49m\u001b[43m(\u001b[49m\u001b[43malist\u001b[49m\u001b[43m,\u001b[49m\u001b[38;5;241;43m0\u001b[39;49m\u001b[43m,\u001b[49m\u001b[38;5;28;43mlen\u001b[39;49m\u001b[43m(\u001b[49m\u001b[43malist\u001b[49m\u001b[43m)\u001b[49m\u001b[38;5;241;43m-\u001b[39;49m\u001b[38;5;241;43m1\u001b[39;49m\u001b[43m)\u001b[49m\n",
      "Cell \u001b[1;32mIn[8], line 6\u001b[0m, in \u001b[0;36mquickSortHelper\u001b[1;34m(alist, first, last)\u001b[0m\n\u001b[0;32m      4\u001b[0m \u001b[38;5;28;01mif\u001b[39;00m first\u001b[38;5;241m<\u001b[39mlast:\n\u001b[0;32m      5\u001b[0m     splitpoint\u001b[38;5;241m=\u001b[39mpartition(alist,first,last)\n\u001b[1;32m----> 6\u001b[0m     \u001b[43mquickSortHelper\u001b[49m\u001b[43m(\u001b[49m\u001b[43malist\u001b[49m\u001b[43m,\u001b[49m\u001b[43mfirst\u001b[49m\u001b[43m,\u001b[49m\u001b[43msplitpoint\u001b[49m\u001b[38;5;241;43m-\u001b[39;49m\u001b[38;5;241;43m1\u001b[39;49m\u001b[43m)\u001b[49m\n\u001b[0;32m      7\u001b[0m     quickSortHelper(alist,splitpoint\u001b[38;5;241m+\u001b[39m\u001b[38;5;241m1\u001b[39m,last)\n",
      "Cell \u001b[1;32mIn[8], line 5\u001b[0m, in \u001b[0;36mquickSortHelper\u001b[1;34m(alist, first, last)\u001b[0m\n\u001b[0;32m      3\u001b[0m \u001b[38;5;28;01mdef\u001b[39;00m \u001b[38;5;21mquickSortHelper\u001b[39m(alist,first,last):\n\u001b[0;32m      4\u001b[0m     \u001b[38;5;28;01mif\u001b[39;00m first\u001b[38;5;241m<\u001b[39mlast:\n\u001b[1;32m----> 5\u001b[0m         splitpoint\u001b[38;5;241m=\u001b[39m\u001b[43mpartition\u001b[49m\u001b[43m(\u001b[49m\u001b[43malist\u001b[49m\u001b[43m,\u001b[49m\u001b[43mfirst\u001b[49m\u001b[43m,\u001b[49m\u001b[43mlast\u001b[49m\u001b[43m)\u001b[49m\n\u001b[0;32m      6\u001b[0m         quickSortHelper(alist,first,splitpoint\u001b[38;5;241m-\u001b[39m\u001b[38;5;241m1\u001b[39m)\n\u001b[0;32m      7\u001b[0m         quickSortHelper(alist,splitpoint\u001b[38;5;241m+\u001b[39m\u001b[38;5;241m1\u001b[39m,last)\n",
      "Cell \u001b[1;32mIn[8], line 13\u001b[0m, in \u001b[0;36mpartition\u001b[1;34m(alist, first, last)\u001b[0m\n\u001b[0;32m     11\u001b[0m rightmark\u001b[38;5;241m=\u001b[39mlast\n\u001b[0;32m     12\u001b[0m done\u001b[38;5;241m=\u001b[39m\u001b[38;5;28;01mFalse\u001b[39;00m\n\u001b[1;32m---> 13\u001b[0m \u001b[38;5;28;01mwhile\u001b[39;00m \u001b[38;5;129;01mnot\u001b[39;00m done:\n\u001b[0;32m     14\u001b[0m     \u001b[38;5;28;01mwhile\u001b[39;00m leftmark\u001b[38;5;241m<\u001b[39m\u001b[38;5;241m=\u001b[39mrightmark \u001b[38;5;129;01mand\u001b[39;00m alist[leftmark]\u001b[38;5;241m<\u001b[39m\u001b[38;5;241m=\u001b[39mpivot:\n\u001b[0;32m     15\u001b[0m         leftmark\u001b[38;5;241m+\u001b[39m\u001b[38;5;241m=\u001b[39m\u001b[38;5;241m1\u001b[39m\n",
      "\u001b[1;31mKeyboardInterrupt\u001b[0m: "
     ]
    }
   ],
   "source": [
    "def quickSort(alist):\n",
    "    return quickSortHelper(alist,0,len(alist)-1)\n",
    "def quickSortHelper(alist,first,last):\n",
    "    if first<last:\n",
    "        splitpoint=partition(alist,first,last)\n",
    "        quickSortHelper(alist,first,splitpoint-1)\n",
    "        quickSortHelper(alist,splitpoint+1,last)\n",
    "def partition(alist,first,last):\n",
    "    pivot=alist[first]\n",
    "    leftmark=first+1\n",
    "    rightmark=last\n",
    "    done=False\n",
    "    while not done:\n",
    "        while leftmark<=rightmark and alist[leftmark]<=pivot:\n",
    "            leftmark+=1\n",
    "        while leftmark<=rightmark and alist[rightmark]>=pivot:\n",
    "            rightmark-=1\n",
    "        if rightmark<leftmark:\n",
    "            done=True\n",
    "        else :\n",
    "            temp=alist[leftmark]\n",
    "            alist[leftmark]=alist[rightmark]\n",
    "            alist[rightmark]=temp\n",
    "    alist[first]=alist[rightmark]\n",
    "    alist[rightmark]=pivot\n",
    "    return rightmark\n",
    "    \n",
    "alist=[9,8,7,6,5,4,3,2,1,0]\n",
    "quickSort(alist)\n",
    "print(alist)      \n",
    "\n",
    "        "
   ]
  },
  {
   "cell_type": "code",
   "execution_count": null,
   "id": "c4c83217-dd09-46ff-96dd-edcccc9d9b9d",
   "metadata": {},
   "outputs": [],
   "source": []
  }
 ],
 "metadata": {
  "kernelspec": {
   "display_name": "Python 3 (ipykernel)",
   "language": "python",
   "name": "python3"
  },
  "language_info": {
   "codemirror_mode": {
    "name": "ipython",
    "version": 3
   },
   "file_extension": ".py",
   "mimetype": "text/x-python",
   "name": "python",
   "nbconvert_exporter": "python",
   "pygments_lexer": "ipython3",
   "version": "3.11.0"
  }
 },
 "nbformat": 4,
 "nbformat_minor": 5
}
