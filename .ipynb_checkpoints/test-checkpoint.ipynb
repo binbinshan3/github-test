{
 "cells": [
  {
   "cell_type": "code",
   "execution_count": 13,
   "id": "17126cf9",
   "metadata": {},
   "outputs": [
    {
     "name": "stdout",
     "output_type": "stream",
     "text": [
      "dict_values(['aaa', 'bbb', 'ccc'])\n"
     ]
    }
   ],
   "source": [
    "a={\"1\":\"aaa\",\"2\":\"bbb\",\"3\":\"ccc\" }\n",
    "print(a.values())"
   ]
  },
  {
   "cell_type": "code",
   "execution_count": 51,
   "id": "030acf5f",
   "metadata": {},
   "outputs": [
    {
     "name": "stdout",
     "output_type": "stream",
     "text": [
      "input the charaaA\n",
      "input the n1\n",
      "['b', 'b', 'B']\n",
      "bbB\n"
     ]
    }
   ],
   "source": [
    "def abc(char,n):\n",
    "    if char.isupper():\n",
    "        start='A'\n",
    "    else :\n",
    "        start='a'\n",
    "\n",
    "    return chr(((ord(char)+int(n)-ord(start))%26+ord(start)))\n",
    "\n",
    "    \n",
    "\n",
    "\n",
    "    \n",
    "char=input(\"input the char\")\n",
    "n=input(\"input the n\")\n",
    "\n",
    "a=[]\n",
    "for i in char:\n",
    "    a.append(abc(i,n))\n",
    "print(a)\n",
    "\n",
    "b=\"\".join(a)\n",
    "print(b)\n",
    "\n",
    "    \n",
    "    "
   ]
  },
  {
   "cell_type": "code",
   "execution_count": 41,
   "id": "8fa5cd65",
   "metadata": {},
   "outputs": [
    {
     "name": "stdout",
     "output_type": "stream",
     "text": [
      "input the charadsdfqew\n",
      "['adsdfqew']\n",
      "['adsdfqew']\n"
     ]
    }
   ],
   "source": [
    "\n",
    "char=input(\"input the char\").split()\n",
    "print(char)\n",
    "print(list(char))"
   ]
  },
  {
   "cell_type": "code",
   "execution_count": null,
   "id": "7653daa4",
   "metadata": {},
   "outputs": [],
   "source": []
  }
 ],
 "metadata": {
  "kernelspec": {
   "display_name": "Python (env1)",
   "language": "python",
   "name": "env1"
  },
  "language_info": {
   "codemirror_mode": {
    "name": "ipython",
    "version": 3
   },
   "file_extension": ".py",
   "mimetype": "text/x-python",
   "name": "python",
   "nbconvert_exporter": "python",
   "pygments_lexer": "ipython3",
   "version": "3.10.18"
  }
 },
 "nbformat": 4,
 "nbformat_minor": 5
}
