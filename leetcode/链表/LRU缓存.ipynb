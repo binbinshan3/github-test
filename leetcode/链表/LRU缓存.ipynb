{
 "cells": [
  {
   "cell_type": "markdown",
   "id": "39383e31-1da9-43fd-bbf9-5d03dc7d5af0",
   "metadata": {},
   "source": [
    "请你设计并实现一个满足  LRU (最近最少使用) 缓存 约束的数据结构。\n",
    "实现 LRUCache 类：\n",
    "LRUCache(int capacity) 以 正整数 作为容量 capacity 初始化 LRU 缓存\n",
    "int get(int key) 如果关键字 key 存在于缓存中，则返回关键字的值，否则返回 -1 。\n",
    "void put(int key, int value) 如果关键字 key 已经存在，则变更其数据值 value ；如果不存在，则向缓存中插入该组 key-value 。如果插入操作导致关键字数量超过 capacity ，则应该 逐出 最久未使用的关键字。\n",
    "函数 get 和 put 必须以 O(1) 的平均时间复杂度运行。"
   ]
  },
  {
   "cell_type": "markdown",
   "id": "51e3bbf0-6ea1-4c82-8af2-7fab14fc95a0",
   "metadata": {},
   "source": [
    "思路分析\n",
    "==\n",
    "LRU这个概念其实之前都没怎么接触过，last recent use  \n",
    "想象成一叠书，因为有天花板挡着，所以最多叠n层，每次用到都会把它放到离天花板最近的一层，书太多了就把最下面的丢掉\n",
    "\n",
    "大概是这么理解的吧，先复现一下"
   ]
  },
  {
   "cell_type": "code",
   "execution_count": null,
   "id": "8b0e3b21-fe01-4a4c-b3a6-f923b1ef9aff",
   "metadata": {},
   "outputs": [],
   "source": [
    "class Node:\n",
    "    __slots__='prev','next','key','value'\n",
    "    def __init__(self,key=0,value=0):\n",
    "        self.key=key\n",
    "        self.value=value\n",
    "    \n",
    "class LRUCache:\n",
    "\n",
    "    def __init__(self, capacity: int):\n",
    "        self.capacity=capacity\n",
    "        self.dummy=Node()\n",
    "        self.dummy.next=dummy\n",
    "        self.dummy.prev=dummy\n",
    "        self.key_to_node={}\n",
    "\n",
    "    def get(self, key: int) -> int:\n",
    "        self.get_node(key)\n",
    "            return node.value if node else -1\n",
    "        \n",
    "    def get_node(self,key):\n",
    "        if key not in self.key_to_node:\n",
    "            return None\n",
    "        node=self.key_to_node[key]\n",
    "        self.remove(node)\n",
    "        self.push_fornt(node)\n",
    "        return node\n",
    "        \n",
    "    def put(self, key: int, value: int) -> None:\n",
    "        if key in self.key_to_node:\n",
    "            node=self.key_to_node[key]\n",
    "            node.value\n",
    "            self.remove(node)\n",
    "            self.push_fornt(node)\n",
    "            return\n",
    "        else:\n",
    "            if len(self.key_to_node)==self.capacity:\n",
    "                delnode=self.dummy.prev\n",
    "                self.remove(delnode)\n",
    "                del self.key_to_node[delnode.key]\n",
    "            self.key_to_node[key]=node=Node(key,value)\n",
    "            self.push_fornt(node)\n",
    "            \n",
    "\n",
    "    def remove(self,node):\n",
    "        node.pre.next=node.next\n",
    "        node.next.pre=node.pre\n",
    "\n",
    "    def push_fornt(self,node):\n",
    "        node.next=self.dummy.next\n",
    "        self.dummy.next=node\n",
    "        node.pre=dummy\n",
    "        node.next.pre=node\n",
    "    \n",
    "                \n",
    "        \n"
   ]
  }
 ],
 "metadata": {
  "kernelspec": {
   "display_name": "Python 3 (ipykernel)",
   "language": "python",
   "name": "python3"
  },
  "language_info": {
   "codemirror_mode": {
    "name": "ipython",
    "version": 3
   },
   "file_extension": ".py",
   "mimetype": "text/x-python",
   "name": "python",
   "nbconvert_exporter": "python",
   "pygments_lexer": "ipython3",
   "version": "3.11.0"
  }
 },
 "nbformat": 4,
 "nbformat_minor": 5
}
