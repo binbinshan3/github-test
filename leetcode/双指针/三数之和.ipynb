{
 "cells": [
  {
   "cell_type": "markdown",
   "id": "2829531a-c6f8-4480-87d4-153f313ed4bc",
   "metadata": {},
   "source": [
    "给你一个整数数组 nums ，判断是否存在三元组 [nums[i], nums[j], nums[k]] 满足 i != j、i != k 且 j != k ，同时还满足 nums[i] + nums[j] + nums[k] == 0 。请你返回所有和为 0 且不重复的三元组。\n",
    "\n",
    "注意：答案中不可以包含重复的三元组。"
   ]
  },
  {
   "cell_type": "markdown",
   "id": "39580b52-5d0a-4ca1-929d-27a3748db0a4",
   "metadata": {},
   "source": [
    "思路分析\n",
    "==\n",
    "首先先变成一个有序列表，然后一个指针放在头一个指针放在尾，双指针肯定是这么干的，但是怎么挪动这俩指针我是一点想法没有\n",
    "先试一下暴力解吧 难搞 他这个不让重复我实在是搞不出来"
   ]
  },
  {
   "cell_type": "code",
   "execution_count": 48,
   "id": "b4f39141-f49e-45b1-a1d2-0d82864a7751",
   "metadata": {},
   "outputs": [],
   "source": [
    "from typing import List\n",
    "class Solution:\n",
    "    def threeSum(self, nums: List[int]) -> List[List[int]]:\n",
    "        nums.sort()\n",
    "        print(nums)\n",
    "        i=0\n",
    "        n=len(nums)\n",
    "        res=[]\n",
    "        dic={}\n",
    "        for i in range(n):\n",
    "            dic[i]=nums[i]\n",
    "        while i<n and dic[i]<=0:\n",
    "            l2=[]\n",
    "            if i>0 and nums[i]==nums[i-1]:\n",
    "                i+=1\n",
    "                print(666)\n",
    "                continue\n",
    "            for j in range(i+1,n):\n",
    "                l1=[]\n",
    "                if nums[j]==nums[j-1] and j!=i+1:\n",
    "                    continue\n",
    "                if j in l2:\n",
    "                    continue\n",
    "                k=-(nums[i]+nums[j])\n",
    "                for s in range(n):\n",
    "                    if dic[s]==k and s!=i and s!=j:\n",
    "                        l1.append(nums[i])\n",
    "                        l1.append(nums[j])\n",
    "                        l1.append(k)\n",
    "                        l2.append(s)\n",
    "                        res.append(l1)\n",
    "            i+=1\n",
    "        return res\n",
    "                    \n",
    "                    \n",
    "            "
   ]
  },
  {
   "cell_type": "markdown",
   "id": "47e372bd-76e1-4ae7-99b9-d6600b312306",
   "metadata": {},
   "source": [
    "正确思路\n",
    "==\n",
    "其实叫三指针比较合适吧，我感觉我是被忽悠了 有点高估了这道题的难度，或者是我今天就是有点心不在焉  \n",
    "感觉不是很难，思路也比较好理解，感觉主要问题还是我不太思考\n",
    "其实就是从左往右遍历，锚定第一个数之后去操作两个指针相向移动，不算是特别巧妙的解法  \n",
    "其实收获就是遇到这种的考虑列表会重复的问题，不要考虑a in b这种写法，多上几个指针说不定就好了  \n",
    "嗷 他这种做法，真的不会漏掉可能性吗，这个地方确实有点神奇"
   ]
  },
  {
   "cell_type": "code",
   "execution_count": null,
   "id": "577b998b-15ff-4dd0-bbcc-42ab524f2642",
   "metadata": {},
   "outputs": [],
   "source": [
    "from typing import List\n",
    "class Solution:\n",
    "    def threeSum(self, nums: List[int]) -> List[List[int]]:\n",
    "        nums.sort()\n",
    "        n=len(nums)\n",
    "        # 这个地方还有个小巧思，边界是n-3因为n-1和n-2的地方要放指针\n",
    "        ans=[]\n",
    "        for i in range(0,n-2):\n",
    "            if i!=0 and nums[i]==nums[i-1]:\n",
    "                continue\n",
    "            j=i+1\n",
    "            k=n-1\n",
    "            if nums[i]+nums[i+1]+nums[i+2]>0:\n",
    "                break\n",
    "            if nums[i]+nums[n-2]+nums[n-1]<0:\n",
    "                continue\n",
    "            while j<k:\n",
    "                s=nums[i]+nums[j]+nums[k]\n",
    "                if s>0:\n",
    "                    k-=1\n",
    "                    while nums[k+1]==nums[k]:\n",
    "                        k-=1\n",
    "                elif s<0:\n",
    "                    j+=1\n",
    "                    while nums[j-1]==nums[j]:\n",
    "                        j+=1\n",
    "                else:\n",
    "                    ans.append([nums[i],nums[j],nums[k]])\n",
    "                    k-=1\n",
    "                    while nums[k+1]==nums[k]:\n",
    "                        k-=1\n",
    "                    j+=1\n",
    "                    while nums[j-1]==nums[j]:\n",
    "                        j+=1\n",
    "        return res"
   ]
  }
 ],
 "metadata": {
  "kernelspec": {
   "display_name": "Python (env1)",
   "language": "python",
   "name": "env1"
  },
  "language_info": {
   "codemirror_mode": {
    "name": "ipython",
    "version": 3
   },
   "file_extension": ".py",
   "mimetype": "text/x-python",
   "name": "python",
   "nbconvert_exporter": "python",
   "pygments_lexer": "ipython3",
   "version": "3.10.18"
  }
 },
 "nbformat": 4,
 "nbformat_minor": 5
}
