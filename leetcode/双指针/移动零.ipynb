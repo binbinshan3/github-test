{
 "cells": [
  {
   "cell_type": "markdown",
   "id": "b19f790d-99f7-4d13-8ba5-02ffb66dd305",
   "metadata": {},
   "source": [
    "给定一个数组 nums，编写一个函数将所有 0 移动到数组的末尾，同时保持非零元素的相对顺序。\n",
    "\n",
    "请注意 ，必须在不复制数组的情况下原地对数组进行操作。"
   ]
  },
  {
   "cell_type": "markdown",
   "id": "257a2e40-3c98-469e-9211-b95e63c4fa0d",
   "metadata": {},
   "source": [
    "思路分析\n",
    "==\n",
    "就你叫双指针啊 没看懂 如果是链表的话挺好搞的  \n",
    "怎么删掉数组中间的元素来着？ del就行 所以就是temp存储一下呗  \n",
    "好像不行 索引会出问题 嗷 难怪叫双指针，要留一个指针在列表末端  \n",
    "\n",
    "上面说的那个实现不了 但是我有个更简单的方法，和双指针没关系了 看看啥叫双指针吧"
   ]
  },
  {
   "cell_type": "code",
   "execution_count": 10,
   "id": "b0542240-5916-4983-98cc-0e5f4881b30c",
   "metadata": {},
   "outputs": [],
   "source": [
    "from typing import List\n",
    "class Solution:\n",
    "    def moveZeroes(self, nums: List[int]) -> None:\n",
    "        if len(nums)>1:\n",
    "            a=[]\n",
    "            n=len(nums)\n",
    "            k=0\n",
    "            for i in range(n):\n",
    "                if nums[i]==0:\n",
    "                    a.append(i)\n",
    "                    k+=1\n",
    "            while a:\n",
    "                del nums[a.pop()]\n",
    "            while k>0:\n",
    "                nums.append(0)\n",
    "                k-=1\n",
    "                    \n",
    "                \n",
    "        \n",
    "        "
   ]
  },
  {
   "cell_type": "markdown",
   "id": "8099d3ea-0909-4d3b-bbce-651c21b51c8e",
   "metadata": {},
   "source": [
    "正确思路\n",
    "==\n",
    "这个双指针确实巧妙哦  其实只要是原列表长度不变的列表操作我都应该考虑到交换是不是好选择的  \n",
    "这个思路是在正常递进是真的同时维护一个叫i0的指针，他指向第一个是0的节点，然后每次遇到不为0的数都把他挪到i0的位置，把0交换过去。确实巧妙\n"
   ]
  },
  {
   "cell_type": "code",
   "execution_count": 11,
   "id": "7c572325-738d-4170-b9d7-68de359f1a87",
   "metadata": {},
   "outputs": [],
   "source": [
    "from typing import List\n",
    "class Solution:\n",
    "    def moveZeroes(self, nums: List[int]) -> None:\n",
    "        n=len(nums)\n",
    "        i0=0\n",
    "        for i in range(n):\n",
    "            if nums[i]:\n",
    "                nums[i0],nums[i]=nums[i],nums[i0]\n",
    "                i0+=1"
   ]
  },
  {
   "cell_type": "code",
   "execution_count": null,
   "id": "2f2de098-2b98-4ab4-b155-8bfa2c1477de",
   "metadata": {},
   "outputs": [],
   "source": []
  }
 ],
 "metadata": {
  "kernelspec": {
   "display_name": "Python 3 (ipykernel)",
   "language": "python",
   "name": "python3"
  },
  "language_info": {
   "codemirror_mode": {
    "name": "ipython",
    "version": 3
   },
   "file_extension": ".py",
   "mimetype": "text/x-python",
   "name": "python",
   "nbconvert_exporter": "python",
   "pygments_lexer": "ipython3",
   "version": "3.11.0"
  }
 },
 "nbformat": 4,
 "nbformat_minor": 5
}
